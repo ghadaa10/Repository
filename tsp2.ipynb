{
 "cells": [
  {
   "cell_type": "markdown",
   "metadata": {},
   "source": [
    "We are looking at the Travelling Salesman Problem, which can be mathematically formulated as : \\\n",
    "We have a set of $n$ cities, with $w_{i,j}$ being the distance between the city $i$ and the city $j$. The goal is to find the shortest path visiting every city exactly once and returning to the first city. We note $x_{i,t}$ a boolean variable, such that $x_{i,t}= 1$ if the $i$-th city is visited at timestep $t$, and  $x_{i,t}= 0$ otherwise.\n",
    "Thus, our goal is to find $x \\in \\{0, 1\\}^{n^2}$ which minimizes the cost function :\n",
    "$$C_{\\text{cost}}(x) = \\sum_{0 \\leq i,j<n} w_{i,j} \\sum_t x_{i,t}x_{j, t+1}$$\n",
    "Since we can only visit a given city once, and we can only be at one city at a given time, we also have the following constraints :\n",
    "$$ \\sum_{0\\leq i <n } x_{i,t} = 1, \\ \\forall t \\in [\\![0, n-1]\\!] $$\n",
    "$$\\sum_{0\\leq t <n } x_{i,t} = 1, \\ \\forall i \\in [\\![0, n-1]\\!] $$\n",
    "\n",
    "\n"
   ]
  },
  {
   "cell_type": "markdown",
   "metadata": {},
   "source": [
    "To enforce the constraints, we will use a penalization term in the cost function. Essentially, we will use the cost function $C =  C_{\\text{cost}} + M\\cdot C_{\\text{penalty}}$ where :\n",
    "$$ C_{\\text{penalty}} = \\sum_{t}\\left( 1 - \\sum_{i} x_{i,t} \\right)^2 + \\sum_i \\left(1 - \\sum_t x_{i,t} \\right)^2 $$\n",
    "And $M$ is a constant large enough for the penalization to be efficient. Notice there are constant terms in $C_{\\text{penalty}}$, which we will remove in the hamiltonian, and notice that the total cost function is quadratic in the variables $x_{i,t}$, meaning we can map it onto a Ising Hamiltonian using the correspondance $x_{i,j} \\leftrightarrow \\frac12(1-Z_{i,t})$ where $Z_{i,t}$ is the pauli operator $Z$ acting on the qubit $i,t$.\n",
    "We note the cost Hamiltonian : \n",
    "$$ \\hat{H}_C = \\sum_{x \\in  \\{ 0, \\ 1 \\}^n } C(x) \\ket{x}\\bra{x}$$\n",
    "which is diagonal in the computationnal basis, and in terms of operators is equivalent to replacing every $x_{i,t}$ in $C(x)$ by $\\frac12(1-Z_{i,t})$. We start the code with the imports for using MyQLM, and the initialization of the problem : "
   ]
  },
  {
   "cell_type": "code",
   "execution_count": 1,
   "metadata": {},
   "outputs": [],
   "source": [
    "import numpy as np\n",
    "import numpy.random as npr\n",
    "import matplotlib.pyplot as plt\n",
    "from qat.lang.AQASM import Program,RX, X, H, Y, Z, S, PH, RZ, RY\n",
    "from qat.opt import CombinatorialProblem\n",
    "from qat.vsolve.ansatz import AnsatzFactory\n",
    "from qat.pylinalg import PyLinalg\n",
    "from qat.qpus import get_default_qpu\n",
    "from qat.clinalg import CLinalg\n",
    "from qat.plugins import ScipyMinimizePlugin\n",
    "from qat.plugins import SPSAMinimizePlugin\n",
    "from qat.core import Result\n",
    "from qat.core.qpu import QPUHandler\n",
    "from qat.core import Result\n",
    "from qat.core.wrappers.result import aggregate_data\n"
   ]
  },
  {
   "cell_type": "code",
   "execution_count": 2,
   "metadata": {},
   "outputs": [],
   "source": [
    "nb_cities = 3  # number of cities\n",
    "nbLayers = 10 #number of optimization layers for QAOA\n",
    "C = [[0, 1, 1000], [1000, 0, 1], [1, 1000, 0]]  # Cost matrix of the travel between two cities\n",
    "constraint_constant = 10*nb_cities # Constraint constant, this one works well"
   ]
  },
  {
   "cell_type": "markdown",
   "metadata": {},
   "source": [
    "Then we use MyQLM's functions to construct the hamiltonian corresponding to the cost function :"
   ]
  },
  {
   "cell_type": "code",
   "execution_count": 3,
   "metadata": {},
   "outputs": [],
   "source": [
    "#Create a combinatorial problem\n",
    "problem = CombinatorialProblem(\"TSP\", False)\n",
    "#initialize the boolean variables\n",
    "var_array = problem.new_vars(nb_cities**2)\n",
    "# Now we create the cost function as a boolean function\n",
    "\n",
    "# This part corresponds to the actual cost function\n",
    "for i in range(nb_cities):\n",
    "    for j in range(nb_cities):\n",
    "        for t in range(nb_cities - 1):\n",
    "            problem.add_clause(\n",
    "                var_array[i + nb_cities * t]\n",
    "                & var_array[j + nb_cities * ((t + 1) % nb_cities)],\n",
    "                C[i][j],\n",
    "            )\n",
    "\n",
    "# This part corresponds to the penalisation added to the cost function, with the constant terms removed\n",
    "for t in range(nb_cities):\n",
    "    for i in range(nb_cities):\n",
    "        problem.add_clause(var_array[i + nb_cities * t], (-2) * constraint_constant)\n",
    "        for i2 in range(nb_cities):\n",
    "            if i2 != i:\n",
    "                problem.add_clause(\n",
    "                    var_array[i + nb_cities * t] & var_array[i2 + nb_cities * t],\n",
    "                    constraint_constant,\n",
    "                )\n",
    "        \n",
    "        for t2 in range(nb_cities):\n",
    "            if t2 != t:\n",
    "                problem.add_clause(\n",
    "                    var_array[i + nb_cities * t] & var_array[i + nb_cities * t2],\n",
    "                    constraint_constant,\n",
    "                )"
   ]
  },
  {
   "cell_type": "markdown",
   "metadata": {},
   "source": [
    "Now that our cost function has been created, we use the qaoa_ansatz method to create our job, which is a runable parametrized QAOA circuit, corresponding to preparing the state : \n",
    "$$\\ket{\\Phi(\\vec{\\gamma},\\vec{\\beta} )}=  \\prod_1^p e^{-i\\beta_i \\hat{H}_B} e^{-i\\gamma_i \\hat{H}_C} \\ket{+}. $$\n",
    "Where $\\hat{H}_B = \\sum_1^n X_i $ où $X_i$"
   ]
  },
  {
   "cell_type": "code",
   "execution_count": 4,
   "metadata": {},
   "outputs": [
    {
     "data": {
      "text/plain": [
       "Observable(terms=[Term(_coeff=TNumber(is_abstract=False, type=1, int_p=None, double_p=0.25, string_p=None, matrix_p=None, serialized_p=None, complex_p=None), op='ZZ', qbits=[0, 4], _do_validity_check=True), Term(_coeff=TNumber(is_abstract=False, type=1, int_p=None, double_p=0.25, string_p=None, matrix_p=None, serialized_p=None, complex_p=None), op='ZZ', qbits=[3, 7], _do_validity_check=True), Term(_coeff=TNumber(is_abstract=False, type=1, int_p=None, double_p=250.0, string_p=None, matrix_p=None, serialized_p=None, complex_p=None), op='ZZ', qbits=[0, 5], _do_validity_check=True), Term(_coeff=TNumber(is_abstract=False, type=1, int_p=None, double_p=250.0, string_p=None, matrix_p=None, serialized_p=None, complex_p=None), op='ZZ', qbits=[8, 3], _do_validity_check=True), Term(_coeff=TNumber(is_abstract=False, type=1, int_p=None, double_p=250.0, string_p=None, matrix_p=None, serialized_p=None, complex_p=None), op='ZZ', qbits=[1, 3], _do_validity_check=True), Term(_coeff=TNumber(is_abstract=False, type=1, int_p=None, double_p=250.0, string_p=None, matrix_p=None, serialized_p=None, complex_p=None), op='ZZ', qbits=[4, 6], _do_validity_check=True), Term(_coeff=TNumber(is_abstract=False, type=1, int_p=None, double_p=0.25, string_p=None, matrix_p=None, serialized_p=None, complex_p=None), op='ZZ', qbits=[1, 5], _do_validity_check=True), Term(_coeff=TNumber(is_abstract=False, type=1, int_p=None, double_p=0.25, string_p=None, matrix_p=None, serialized_p=None, complex_p=None), op='ZZ', qbits=[8, 4], _do_validity_check=True), Term(_coeff=TNumber(is_abstract=False, type=1, int_p=None, double_p=0.25, string_p=None, matrix_p=None, serialized_p=None, complex_p=None), op='ZZ', qbits=[2, 3], _do_validity_check=True), Term(_coeff=TNumber(is_abstract=False, type=1, int_p=None, double_p=0.25, string_p=None, matrix_p=None, serialized_p=None, complex_p=None), op='ZZ', qbits=[5, 6], _do_validity_check=True), Term(_coeff=TNumber(is_abstract=False, type=1, int_p=None, double_p=250.0, string_p=None, matrix_p=None, serialized_p=None, complex_p=None), op='ZZ', qbits=[2, 4], _do_validity_check=True), Term(_coeff=TNumber(is_abstract=False, type=1, int_p=None, double_p=250.0, string_p=None, matrix_p=None, serialized_p=None, complex_p=None), op='ZZ', qbits=[5, 7], _do_validity_check=True), Term(_coeff=TNumber(is_abstract=False, type=1, int_p=None, double_p=15.0, string_p=None, matrix_p=None, serialized_p=None, complex_p=None), op='ZZ', qbits=[0, 1], _do_validity_check=True), Term(_coeff=TNumber(is_abstract=False, type=1, int_p=None, double_p=15.0, string_p=None, matrix_p=None, serialized_p=None, complex_p=None), op='ZZ', qbits=[0, 2], _do_validity_check=True), Term(_coeff=TNumber(is_abstract=False, type=1, int_p=None, double_p=15.0, string_p=None, matrix_p=None, serialized_p=None, complex_p=None), op='ZZ', qbits=[1, 2], _do_validity_check=True), Term(_coeff=TNumber(is_abstract=False, type=1, int_p=None, double_p=15.0, string_p=None, matrix_p=None, serialized_p=None, complex_p=None), op='ZZ', qbits=[0, 3], _do_validity_check=True), Term(_coeff=TNumber(is_abstract=False, type=1, int_p=None, double_p=15.0, string_p=None, matrix_p=None, serialized_p=None, complex_p=None), op='ZZ', qbits=[3, 4], _do_validity_check=True), Term(_coeff=TNumber(is_abstract=False, type=1, int_p=None, double_p=15.0, string_p=None, matrix_p=None, serialized_p=None, complex_p=None), op='ZZ', qbits=[1, 4], _do_validity_check=True), Term(_coeff=TNumber(is_abstract=False, type=1, int_p=None, double_p=15.0, string_p=None, matrix_p=None, serialized_p=None, complex_p=None), op='ZZ', qbits=[3, 5], _do_validity_check=True), Term(_coeff=TNumber(is_abstract=False, type=1, int_p=None, double_p=15.0, string_p=None, matrix_p=None, serialized_p=None, complex_p=None), op='ZZ', qbits=[4, 5], _do_validity_check=True), Term(_coeff=TNumber(is_abstract=False, type=1, int_p=None, double_p=15.0, string_p=None, matrix_p=None, serialized_p=None, complex_p=None), op='ZZ', qbits=[2, 5], _do_validity_check=True), Term(_coeff=TNumber(is_abstract=False, type=1, int_p=None, double_p=-280.25, string_p=None, matrix_p=None, serialized_p=None, complex_p=None), op='Z', qbits=[0], _do_validity_check=True), Term(_coeff=TNumber(is_abstract=False, type=1, int_p=None, double_p=15.0, string_p=None, matrix_p=None, serialized_p=None, complex_p=None), op='ZZ', qbits=[0, 6], _do_validity_check=True), Term(_coeff=TNumber(is_abstract=False, type=1, int_p=None, double_p=-530.5, string_p=None, matrix_p=None, serialized_p=None, complex_p=None), op='Z', qbits=[3], _do_validity_check=True), Term(_coeff=TNumber(is_abstract=False, type=1, int_p=None, double_p=15.0, string_p=None, matrix_p=None, serialized_p=None, complex_p=None), op='ZZ', qbits=[3, 6], _do_validity_check=True), Term(_coeff=TNumber(is_abstract=False, type=1, int_p=None, double_p=15.0, string_p=None, matrix_p=None, serialized_p=None, complex_p=None), op='ZZ', qbits=[6, 7], _do_validity_check=True), Term(_coeff=TNumber(is_abstract=False, type=1, int_p=None, double_p=-280.25, string_p=None, matrix_p=None, serialized_p=None, complex_p=None), op='Z', qbits=[1], _do_validity_check=True), Term(_coeff=TNumber(is_abstract=False, type=1, int_p=None, double_p=15.0, string_p=None, matrix_p=None, serialized_p=None, complex_p=None), op='ZZ', qbits=[1, 7], _do_validity_check=True), Term(_coeff=TNumber(is_abstract=False, type=1, int_p=None, double_p=-530.5, string_p=None, matrix_p=None, serialized_p=None, complex_p=None), op='Z', qbits=[4], _do_validity_check=True), Term(_coeff=TNumber(is_abstract=False, type=1, int_p=None, double_p=15.0, string_p=None, matrix_p=None, serialized_p=None, complex_p=None), op='ZZ', qbits=[4, 7], _do_validity_check=True), Term(_coeff=TNumber(is_abstract=False, type=1, int_p=None, double_p=-280.25, string_p=None, matrix_p=None, serialized_p=None, complex_p=None), op='Z', qbits=[6], _do_validity_check=True), Term(_coeff=TNumber(is_abstract=False, type=1, int_p=None, double_p=15.0, string_p=None, matrix_p=None, serialized_p=None, complex_p=None), op='ZZ', qbits=[8, 6], _do_validity_check=True), Term(_coeff=TNumber(is_abstract=False, type=1, int_p=None, double_p=-280.25, string_p=None, matrix_p=None, serialized_p=None, complex_p=None), op='Z', qbits=[7], _do_validity_check=True), Term(_coeff=TNumber(is_abstract=False, type=1, int_p=None, double_p=15.0, string_p=None, matrix_p=None, serialized_p=None, complex_p=None), op='ZZ', qbits=[8, 7], _do_validity_check=True), Term(_coeff=TNumber(is_abstract=False, type=1, int_p=None, double_p=-280.25, string_p=None, matrix_p=None, serialized_p=None, complex_p=None), op='Z', qbits=[2], _do_validity_check=True), Term(_coeff=TNumber(is_abstract=False, type=1, int_p=None, double_p=15.0, string_p=None, matrix_p=None, serialized_p=None, complex_p=None), op='ZZ', qbits=[8, 2], _do_validity_check=True), Term(_coeff=TNumber(is_abstract=False, type=1, int_p=None, double_p=-280.25, string_p=None, matrix_p=None, serialized_p=None, complex_p=None), op='Z', qbits=[8], _do_validity_check=True), Term(_coeff=TNumber(is_abstract=False, type=1, int_p=None, double_p=-530.5, string_p=None, matrix_p=None, serialized_p=None, complex_p=None), op='Z', qbits=[5], _do_validity_check=True), Term(_coeff=TNumber(is_abstract=False, type=1, int_p=None, double_p=15.0, string_p=None, matrix_p=None, serialized_p=None, complex_p=None), op='ZZ', qbits=[8, 5], _do_validity_check=True)], nbqbits=9, constant_coeff=1501.5, ising=None)"
      ]
     },
     "execution_count": 4,
     "metadata": {},
     "output_type": "execute_result"
    }
   ],
   "source": [
    "observable = problem.get_observable()\n",
    "observable"
   ]
  },
  {
   "cell_type": "code",
   "execution_count": 13,
   "metadata": {},
   "outputs": [
    {
     "name": "stdout",
     "output_type": "stream",
     "text": [
      "State |100010001> amplitude 1.0\n",
      "State |100010001> amplitude 1.0\n"
     ]
    },
    {
     "ename": "KeyboardInterrupt",
     "evalue": "",
     "output_type": "error",
     "traceback": [
      "\u001b[1;31m---------------------------------------------------------------------------\u001b[0m",
      "\u001b[1;31mKeyboardInterrupt\u001b[0m                         Traceback (most recent call last)",
      "\u001b[1;32mc:\\Users\\ghada\\physique-numerique\\tsp.ipynb Cell 9\u001b[0m line \u001b[0;36m4\n\u001b[0;32m     <a href='vscode-notebook-cell:/c%3A/Users/ghada/physique-numerique/tsp.ipynb#X11sZmlsZQ%3D%3D?line=40'>41</a>\u001b[0m qpu \u001b[39m=\u001b[39m PyLinalg()\n\u001b[0;32m     <a href='vscode-notebook-cell:/c%3A/Users/ghada/physique-numerique/tsp.ipynb#X11sZmlsZQ%3D%3D?line=41'>42</a>\u001b[0m stack \u001b[39m=\u001b[39m  optimize \u001b[39m|\u001b[39m qpu \u001b[39m#on crée un stack : on va lancer le optimize sur le job qui sera soumis\u001b[39;00m\n\u001b[1;32m---> <a href='vscode-notebook-cell:/c%3A/Users/ghada/physique-numerique/tsp.ipynb#X11sZmlsZQ%3D%3D?line=42'>43</a>\u001b[0m result \u001b[39m=\u001b[39m stack\u001b[39m.\u001b[39;49msubmit(job) \u001b[39m#résultat de l'optimisation\u001b[39;00m\n\u001b[0;32m     <a href='vscode-notebook-cell:/c%3A/Users/ghada/physique-numerique/tsp.ipynb#X11sZmlsZQ%3D%3D?line=43'>44</a>\u001b[0m circuit \u001b[39m=\u001b[39m job\u001b[39m.\u001b[39mcircuit\u001b[39m.\u001b[39mbind_variables(result\u001b[39m.\u001b[39mparameter_map) \u001b[39m#On récupère le circuit précédent en \u001b[39;00m\n\u001b[0;32m     <a href='vscode-notebook-cell:/c%3A/Users/ghada/physique-numerique/tsp.ipynb#X11sZmlsZQ%3D%3D?line=44'>45</a>\u001b[0m \u001b[39m#spécifiant les variables (qui sont celles de l'optimiseur)\u001b[39;00m\n",
      "File \u001b[1;32mqpu.py:228\u001b[0m, in \u001b[0;36mqat.core.qpu.qpu.CommonQPU.submit\u001b[1;34m()\u001b[0m\n",
      "File \u001b[1;32mqpu.py:231\u001b[0m, in \u001b[0;36mqat.core.qpu.qpu.CommonQPU.submit\u001b[1;34m()\u001b[0m\n",
      "File \u001b[1;32mjunction.py:82\u001b[0m, in \u001b[0;36mqat.core.junction.Junction._submit_batch\u001b[1;34m()\u001b[0m\n",
      "File \u001b[1;32moptimizer.py:103\u001b[0m, in \u001b[0;36mqat.core.optimizer.Optimizer.run\u001b[1;34m()\u001b[0m\n",
      "File \u001b[1;32mscipy_binder.py:105\u001b[0m, in \u001b[0;36mqat.vsolve.optimize.scipy_binder.ScipyMinimizePlugin.optimize\u001b[1;34m()\u001b[0m\n",
      "File \u001b[1;32m~\\AppData\\Roaming\\Python\\Python311\\site-packages\\scipy\\optimize\\_minimize.py:691\u001b[0m, in \u001b[0;36mminimize\u001b[1;34m(fun, x0, args, method, jac, hess, hessp, bounds, constraints, tol, callback, options)\u001b[0m\n\u001b[0;32m    689\u001b[0m     res \u001b[39m=\u001b[39m _minimize_cg(fun, x0, args, jac, callback, \u001b[39m*\u001b[39m\u001b[39m*\u001b[39moptions)\n\u001b[0;32m    690\u001b[0m \u001b[39melif\u001b[39;00m meth \u001b[39m==\u001b[39m \u001b[39m'\u001b[39m\u001b[39mbfgs\u001b[39m\u001b[39m'\u001b[39m:\n\u001b[1;32m--> 691\u001b[0m     res \u001b[39m=\u001b[39m _minimize_bfgs(fun, x0, args, jac, callback, \u001b[39m*\u001b[39;49m\u001b[39m*\u001b[39;49moptions)\n\u001b[0;32m    692\u001b[0m \u001b[39melif\u001b[39;00m meth \u001b[39m==\u001b[39m \u001b[39m'\u001b[39m\u001b[39mnewton-cg\u001b[39m\u001b[39m'\u001b[39m:\n\u001b[0;32m    693\u001b[0m     res \u001b[39m=\u001b[39m _minimize_newtoncg(fun, x0, args, jac, hess, hessp, callback,\n\u001b[0;32m    694\u001b[0m                              \u001b[39m*\u001b[39m\u001b[39m*\u001b[39moptions)\n",
      "File \u001b[1;32m~\\AppData\\Roaming\\Python\\Python311\\site-packages\\scipy\\optimize\\_optimize.py:1388\u001b[0m, in \u001b[0;36m_minimize_bfgs\u001b[1;34m(fun, x0, args, jac, callback, gtol, norm, eps, maxiter, disp, return_all, finite_diff_rel_step, xrtol, **unknown_options)\u001b[0m\n\u001b[0;32m   1385\u001b[0m pk \u001b[39m=\u001b[39m \u001b[39m-\u001b[39mnp\u001b[39m.\u001b[39mdot(Hk, gfk)\n\u001b[0;32m   1386\u001b[0m \u001b[39mtry\u001b[39;00m:\n\u001b[0;32m   1387\u001b[0m     alpha_k, fc, gc, old_fval, old_old_fval, gfkp1 \u001b[39m=\u001b[39m \\\n\u001b[1;32m-> 1388\u001b[0m              _line_search_wolfe12(f, myfprime, xk, pk, gfk,\n\u001b[0;32m   1389\u001b[0m                                   old_fval, old_old_fval, amin\u001b[39m=\u001b[39;49m\u001b[39m1e-100\u001b[39;49m, amax\u001b[39m=\u001b[39;49m\u001b[39m1e100\u001b[39;49m)\n\u001b[0;32m   1390\u001b[0m \u001b[39mexcept\u001b[39;00m _LineSearchError:\n\u001b[0;32m   1391\u001b[0m     \u001b[39m# Line search failed to find a better solution.\u001b[39;00m\n\u001b[0;32m   1392\u001b[0m     warnflag \u001b[39m=\u001b[39m \u001b[39m2\u001b[39m\n",
      "File \u001b[1;32m~\\AppData\\Roaming\\Python\\Python311\\site-packages\\scipy\\optimize\\_optimize.py:1160\u001b[0m, in \u001b[0;36m_line_search_wolfe12\u001b[1;34m(f, fprime, xk, pk, gfk, old_fval, old_old_fval, **kwargs)\u001b[0m\n\u001b[0;32m   1146\u001b[0m \u001b[39m\u001b[39m\u001b[39m\"\"\"\u001b[39;00m\n\u001b[0;32m   1147\u001b[0m \u001b[39mSame as line_search_wolfe1, but fall back to line_search_wolfe2 if\u001b[39;00m\n\u001b[0;32m   1148\u001b[0m \u001b[39msuitable step length is not found, and raise an exception if a\u001b[39;00m\n\u001b[1;32m   (...)\u001b[0m\n\u001b[0;32m   1155\u001b[0m \n\u001b[0;32m   1156\u001b[0m \u001b[39m\"\"\"\u001b[39;00m\n\u001b[0;32m   1158\u001b[0m extra_condition \u001b[39m=\u001b[39m kwargs\u001b[39m.\u001b[39mpop(\u001b[39m'\u001b[39m\u001b[39mextra_condition\u001b[39m\u001b[39m'\u001b[39m, \u001b[39mNone\u001b[39;00m)\n\u001b[1;32m-> 1160\u001b[0m ret \u001b[39m=\u001b[39m line_search_wolfe1(f, fprime, xk, pk, gfk,\n\u001b[0;32m   1161\u001b[0m                          old_fval, old_old_fval,\n\u001b[0;32m   1162\u001b[0m                          \u001b[39m*\u001b[39;49m\u001b[39m*\u001b[39;49mkwargs)\n\u001b[0;32m   1164\u001b[0m \u001b[39mif\u001b[39;00m ret[\u001b[39m0\u001b[39m] \u001b[39mis\u001b[39;00m \u001b[39mnot\u001b[39;00m \u001b[39mNone\u001b[39;00m \u001b[39mand\u001b[39;00m extra_condition \u001b[39mis\u001b[39;00m \u001b[39mnot\u001b[39;00m \u001b[39mNone\u001b[39;00m:\n\u001b[0;32m   1165\u001b[0m     xp1 \u001b[39m=\u001b[39m xk \u001b[39m+\u001b[39m ret[\u001b[39m0\u001b[39m] \u001b[39m*\u001b[39m pk\n",
      "File \u001b[1;32m~\\AppData\\Roaming\\Python\\Python311\\site-packages\\scipy\\optimize\\_linesearch.py:84\u001b[0m, in \u001b[0;36mline_search_wolfe1\u001b[1;34m(f, fprime, xk, pk, gfk, old_fval, old_old_fval, args, c1, c2, amax, amin, xtol)\u001b[0m\n\u001b[0;32m     80\u001b[0m     \u001b[39mreturn\u001b[39;00m np\u001b[39m.\u001b[39mdot(gval[\u001b[39m0\u001b[39m], pk)\n\u001b[0;32m     82\u001b[0m derphi0 \u001b[39m=\u001b[39m np\u001b[39m.\u001b[39mdot(gfk, pk)\n\u001b[1;32m---> 84\u001b[0m stp, fval, old_fval \u001b[39m=\u001b[39m scalar_search_wolfe1(\n\u001b[0;32m     85\u001b[0m         phi, derphi, old_fval, old_old_fval, derphi0,\n\u001b[0;32m     86\u001b[0m         c1\u001b[39m=\u001b[39;49mc1, c2\u001b[39m=\u001b[39;49mc2, amax\u001b[39m=\u001b[39;49mamax, amin\u001b[39m=\u001b[39;49mamin, xtol\u001b[39m=\u001b[39;49mxtol)\n\u001b[0;32m     88\u001b[0m \u001b[39mreturn\u001b[39;00m stp, fc[\u001b[39m0\u001b[39m], gc[\u001b[39m0\u001b[39m], fval, old_fval, gval[\u001b[39m0\u001b[39m]\n",
      "File \u001b[1;32m~\\AppData\\Roaming\\Python\\Python311\\site-packages\\scipy\\optimize\\_linesearch.py:161\u001b[0m, in \u001b[0;36mscalar_search_wolfe1\u001b[1;34m(phi, derphi, phi0, old_phi0, derphi0, c1, c2, amax, amin, xtol)\u001b[0m\n\u001b[0;32m    159\u001b[0m     alpha1 \u001b[39m=\u001b[39m stp\n\u001b[0;32m    160\u001b[0m     phi1 \u001b[39m=\u001b[39m phi(stp)\n\u001b[1;32m--> 161\u001b[0m     derphi1 \u001b[39m=\u001b[39m derphi(stp)\n\u001b[0;32m    162\u001b[0m \u001b[39melse\u001b[39;00m:\n\u001b[0;32m    163\u001b[0m     \u001b[39mbreak\u001b[39;00m\n",
      "File \u001b[1;32m~\\AppData\\Roaming\\Python\\Python311\\site-packages\\scipy\\optimize\\_linesearch.py:78\u001b[0m, in \u001b[0;36mline_search_wolfe1.<locals>.derphi\u001b[1;34m(s)\u001b[0m\n\u001b[0;32m     77\u001b[0m \u001b[39mdef\u001b[39;00m \u001b[39mderphi\u001b[39m(s):\n\u001b[1;32m---> 78\u001b[0m     gval[\u001b[39m0\u001b[39m] \u001b[39m=\u001b[39m fprime(xk \u001b[39m+\u001b[39;49m s\u001b[39m*\u001b[39;49mpk, \u001b[39m*\u001b[39;49margs)\n\u001b[0;32m     79\u001b[0m     gc[\u001b[39m0\u001b[39m] \u001b[39m+\u001b[39m\u001b[39m=\u001b[39m \u001b[39m1\u001b[39m\n\u001b[0;32m     80\u001b[0m     \u001b[39mreturn\u001b[39;00m np\u001b[39m.\u001b[39mdot(gval[\u001b[39m0\u001b[39m], pk)\n",
      "File \u001b[1;32m~\\AppData\\Roaming\\Python\\Python311\\site-packages\\scipy\\optimize\\_differentiable_functions.py:273\u001b[0m, in \u001b[0;36mScalarFunction.grad\u001b[1;34m(self, x)\u001b[0m\n\u001b[0;32m    271\u001b[0m \u001b[39mif\u001b[39;00m \u001b[39mnot\u001b[39;00m np\u001b[39m.\u001b[39marray_equal(x, \u001b[39mself\u001b[39m\u001b[39m.\u001b[39mx):\n\u001b[0;32m    272\u001b[0m     \u001b[39mself\u001b[39m\u001b[39m.\u001b[39m_update_x_impl(x)\n\u001b[1;32m--> 273\u001b[0m \u001b[39mself\u001b[39;49m\u001b[39m.\u001b[39;49m_update_grad()\n\u001b[0;32m    274\u001b[0m \u001b[39mreturn\u001b[39;00m \u001b[39mself\u001b[39m\u001b[39m.\u001b[39mg\n",
      "File \u001b[1;32m~\\AppData\\Roaming\\Python\\Python311\\site-packages\\scipy\\optimize\\_differentiable_functions.py:256\u001b[0m, in \u001b[0;36mScalarFunction._update_grad\u001b[1;34m(self)\u001b[0m\n\u001b[0;32m    254\u001b[0m \u001b[39mdef\u001b[39;00m \u001b[39m_update_grad\u001b[39m(\u001b[39mself\u001b[39m):\n\u001b[0;32m    255\u001b[0m     \u001b[39mif\u001b[39;00m \u001b[39mnot\u001b[39;00m \u001b[39mself\u001b[39m\u001b[39m.\u001b[39mg_updated:\n\u001b[1;32m--> 256\u001b[0m         \u001b[39mself\u001b[39;49m\u001b[39m.\u001b[39;49m_update_grad_impl()\n\u001b[0;32m    257\u001b[0m         \u001b[39mself\u001b[39m\u001b[39m.\u001b[39mg_updated \u001b[39m=\u001b[39m \u001b[39mTrue\u001b[39;00m\n",
      "File \u001b[1;32m~\\AppData\\Roaming\\Python\\Python311\\site-packages\\scipy\\optimize\\_differentiable_functions.py:173\u001b[0m, in \u001b[0;36mScalarFunction.__init__.<locals>.update_grad\u001b[1;34m()\u001b[0m\n\u001b[0;32m    171\u001b[0m \u001b[39mself\u001b[39m\u001b[39m.\u001b[39m_update_fun()\n\u001b[0;32m    172\u001b[0m \u001b[39mself\u001b[39m\u001b[39m.\u001b[39mngev \u001b[39m+\u001b[39m\u001b[39m=\u001b[39m \u001b[39m1\u001b[39m\n\u001b[1;32m--> 173\u001b[0m \u001b[39mself\u001b[39m\u001b[39m.\u001b[39mg \u001b[39m=\u001b[39m approx_derivative(fun_wrapped, \u001b[39mself\u001b[39;49m\u001b[39m.\u001b[39;49mx, f0\u001b[39m=\u001b[39;49m\u001b[39mself\u001b[39;49m\u001b[39m.\u001b[39;49mf,\n\u001b[0;32m    174\u001b[0m                            \u001b[39m*\u001b[39;49m\u001b[39m*\u001b[39;49mfinite_diff_options)\n",
      "File \u001b[1;32m~\\AppData\\Roaming\\Python\\Python311\\site-packages\\scipy\\optimize\\_numdiff.py:505\u001b[0m, in \u001b[0;36mapprox_derivative\u001b[1;34m(fun, x0, method, rel_step, abs_step, f0, bounds, sparsity, as_linear_operator, args, kwargs)\u001b[0m\n\u001b[0;32m    502\u001b[0m     use_one_sided \u001b[39m=\u001b[39m \u001b[39mFalse\u001b[39;00m\n\u001b[0;32m    504\u001b[0m \u001b[39mif\u001b[39;00m sparsity \u001b[39mis\u001b[39;00m \u001b[39mNone\u001b[39;00m:\n\u001b[1;32m--> 505\u001b[0m     \u001b[39mreturn\u001b[39;00m _dense_difference(fun_wrapped, x0, f0, h,\n\u001b[0;32m    506\u001b[0m                              use_one_sided, method)\n\u001b[0;32m    507\u001b[0m \u001b[39melse\u001b[39;00m:\n\u001b[0;32m    508\u001b[0m     \u001b[39mif\u001b[39;00m \u001b[39mnot\u001b[39;00m issparse(sparsity) \u001b[39mand\u001b[39;00m \u001b[39mlen\u001b[39m(sparsity) \u001b[39m==\u001b[39m \u001b[39m2\u001b[39m:\n",
      "File \u001b[1;32m~\\AppData\\Roaming\\Python\\Python311\\site-packages\\scipy\\optimize\\_numdiff.py:576\u001b[0m, in \u001b[0;36m_dense_difference\u001b[1;34m(fun, x0, f0, h, use_one_sided, method)\u001b[0m\n\u001b[0;32m    574\u001b[0m     x \u001b[39m=\u001b[39m x0 \u001b[39m+\u001b[39m h_vecs[i]\n\u001b[0;32m    575\u001b[0m     dx \u001b[39m=\u001b[39m x[i] \u001b[39m-\u001b[39m x0[i]  \u001b[39m# Recompute dx as exactly representable number.\u001b[39;00m\n\u001b[1;32m--> 576\u001b[0m     df \u001b[39m=\u001b[39m fun(x) \u001b[39m-\u001b[39m f0\n\u001b[0;32m    577\u001b[0m \u001b[39melif\u001b[39;00m method \u001b[39m==\u001b[39m \u001b[39m'\u001b[39m\u001b[39m3-point\u001b[39m\u001b[39m'\u001b[39m \u001b[39mand\u001b[39;00m use_one_sided[i]:\n\u001b[0;32m    578\u001b[0m     x1 \u001b[39m=\u001b[39m x0 \u001b[39m+\u001b[39m h_vecs[i]\n",
      "File \u001b[1;32m~\\AppData\\Roaming\\Python\\Python311\\site-packages\\scipy\\optimize\\_numdiff.py:456\u001b[0m, in \u001b[0;36mapprox_derivative.<locals>.fun_wrapped\u001b[1;34m(x)\u001b[0m\n\u001b[0;32m    455\u001b[0m \u001b[39mdef\u001b[39;00m \u001b[39mfun_wrapped\u001b[39m(x):\n\u001b[1;32m--> 456\u001b[0m     f \u001b[39m=\u001b[39m np\u001b[39m.\u001b[39matleast_1d(fun(x, \u001b[39m*\u001b[39;49margs, \u001b[39m*\u001b[39;49m\u001b[39m*\u001b[39;49mkwargs))\n\u001b[0;32m    457\u001b[0m     \u001b[39mif\u001b[39;00m f\u001b[39m.\u001b[39mndim \u001b[39m>\u001b[39m \u001b[39m1\u001b[39m:\n\u001b[0;32m    458\u001b[0m         \u001b[39mraise\u001b[39;00m \u001b[39mRuntimeError\u001b[39;00m(\u001b[39m\"\u001b[39m\u001b[39m`fun` return value has \u001b[39m\u001b[39m\"\u001b[39m\n\u001b[0;32m    459\u001b[0m                            \u001b[39m\"\u001b[39m\u001b[39mmore than 1 dimension.\u001b[39m\u001b[39m\"\u001b[39m)\n",
      "File \u001b[1;32m~\\AppData\\Roaming\\Python\\Python311\\site-packages\\scipy\\optimize\\_differentiable_functions.py:137\u001b[0m, in \u001b[0;36mScalarFunction.__init__.<locals>.fun_wrapped\u001b[1;34m(x)\u001b[0m\n\u001b[0;32m    133\u001b[0m \u001b[39mself\u001b[39m\u001b[39m.\u001b[39mnfev \u001b[39m+\u001b[39m\u001b[39m=\u001b[39m \u001b[39m1\u001b[39m\n\u001b[0;32m    134\u001b[0m \u001b[39m# Send a copy because the user may overwrite it.\u001b[39;00m\n\u001b[0;32m    135\u001b[0m \u001b[39m# Overwriting results in undefined behaviour because\u001b[39;00m\n\u001b[0;32m    136\u001b[0m \u001b[39m# fun(self.x) will change self.x, with the two no longer linked.\u001b[39;00m\n\u001b[1;32m--> 137\u001b[0m fx \u001b[39m=\u001b[39m fun(np\u001b[39m.\u001b[39;49mcopy(x), \u001b[39m*\u001b[39;49margs)\n\u001b[0;32m    138\u001b[0m \u001b[39m# Make sure the function returns a true scalar\u001b[39;00m\n\u001b[0;32m    139\u001b[0m \u001b[39mif\u001b[39;00m \u001b[39mnot\u001b[39;00m np\u001b[39m.\u001b[39misscalar(fx):\n",
      "File \u001b[1;32mscipy_binder.py:103\u001b[0m, in \u001b[0;36mqat.vsolve.optimize.scipy_binder.ScipyMinimizePlugin.optimize.evaluate_aux\u001b[1;34m()\u001b[0m\n",
      "File \u001b[1;32moptimizer.py:89\u001b[0m, in \u001b[0;36mqat.core.optimizer.Optimizer.evaluate\u001b[1;34m()\u001b[0m\n",
      "File \u001b[1;32mjunction.py:147\u001b[0m, in \u001b[0;36mqat.core.junction.Junction.execute\u001b[1;34m()\u001b[0m\n",
      "File \u001b[1;32mqpu.py:228\u001b[0m, in \u001b[0;36mqat.core.qpu.qpu.CommonQPU.submit\u001b[1;34m()\u001b[0m\n",
      "File \u001b[1;32mqpu.py:231\u001b[0m, in \u001b[0;36mqat.core.qpu.qpu.CommonQPU.submit\u001b[1;34m()\u001b[0m\n",
      "File \u001b[1;32mqpu.py:154\u001b[0m, in \u001b[0;36mqat.core.qpu.qpu.CommonQPU._submit_batch\u001b[1;34m()\u001b[0m\n",
      "File \u001b[1;32mc:\\Users\\ghada\\AppData\\Local\\Programs\\Python\\Python311\\Lib\\site-packages\\qat\\pylinalg\\service.py:65\u001b[0m, in \u001b[0;36mPyLinalg.submit_job\u001b[1;34m(self, job)\u001b[0m\n\u001b[0;32m     61\u001b[0m has_int_meas \u001b[39m=\u001b[39m has_intermediate_measurements(job\u001b[39m.\u001b[39mcircuit)\n\u001b[0;32m     63\u001b[0m \u001b[39mif\u001b[39;00m (job\u001b[39m.\u001b[39mnbshots \u001b[39m==\u001b[39m \u001b[39m0\u001b[39m) \u001b[39mor\u001b[39;00m (\u001b[39mnot\u001b[39;00m has_int_meas):\n\u001b[1;32m---> 65\u001b[0m     np_state_vec, interm_measurements \u001b[39m=\u001b[39m simulate(job\u001b[39m.\u001b[39;49mcircuit)  \u001b[39m# perform simu\u001b[39;00m\n\u001b[0;32m     67\u001b[0m \u001b[39mif\u001b[39;00m job\u001b[39m.\u001b[39mqubits \u001b[39mis\u001b[39;00m \u001b[39mnot\u001b[39;00m \u001b[39mNone\u001b[39;00m:\n\u001b[0;32m     68\u001b[0m     meas_qubits \u001b[39m=\u001b[39m job\u001b[39m.\u001b[39mqubits\n",
      "File \u001b[1;32mc:\\Users\\ghada\\AppData\\Local\\Programs\\Python\\Python311\\Lib\\site-packages\\qat\\pylinalg\\simulator.py:68\u001b[0m, in \u001b[0;36msimulate\u001b[1;34m(circuit)\u001b[0m\n\u001b[0;32m     66\u001b[0m \u001b[39m# Initialization at |0...0>\u001b[39;00m\n\u001b[0;32m     67\u001b[0m shape \u001b[39m=\u001b[39m \u001b[39mtuple\u001b[39m([\u001b[39m2\u001b[39m \u001b[39mfor\u001b[39;00m _ \u001b[39min\u001b[39;00m \u001b[39mrange\u001b[39m(circuit\u001b[39m.\u001b[39mnbqbits)])\n\u001b[1;32m---> 68\u001b[0m state_vec \u001b[39m=\u001b[39m np\u001b[39m.\u001b[39mzeros(shape, dtype\u001b[39m=\u001b[39mnp\u001b[39m.\u001b[39mcomplex128)\n\u001b[0;32m     69\u001b[0m state_vec[\u001b[39mtuple\u001b[39m([\u001b[39m0\u001b[39m \u001b[39mfor\u001b[39;00m _ \u001b[39min\u001b[39;00m \u001b[39mrange\u001b[39m(circuit\u001b[39m.\u001b[39mnbqbits)])] \u001b[39m=\u001b[39m \u001b[39m1\u001b[39m\n\u001b[0;32m     71\u001b[0m \u001b[39m# cbits initilization.\u001b[39;00m\n",
      "\u001b[1;31mKeyboardInterrupt\u001b[0m: "
     ]
    }
   ],
   "source": [
    "epochs =10\n",
    "for i in range(epochs):\n",
    "    observable = problem.get_observable()\n",
    "    prog = Program()\n",
    "    # list_1qbit_gates = [X, Y, Z, H, PH, RZ, RX, RY]\n",
    "    # list_2qb_gates = [\n",
    "    #         X.ctrl(1),\n",
    "    #         Z.ctrl(1),\n",
    "    #     ]\n",
    "\n",
    "    reg = prog.qalloc(nb_cities**2)\n",
    "    var =  [ prog.new_var(float,'theta'+str(i)) for i in range(nb_cities**2)]\n",
    "    # for i in range(nb_cities**2):\n",
    "    #     test= np.random.choice([True,False])\n",
    "    #     if test:\n",
    "    #         gate_to_apply = np.random.choice(list_1qbit_gates)\n",
    "    #         if hasattr(gate_to_apply, \"parameters\"):\n",
    "    #             if isinstance(gate_to_apply.parameters, list) and len(gate_to_apply.parameters) > 0:\n",
    "    #                 gate_to_apply = gate_to_apply(np.random.uniform(0, 2 * np.pi))\n",
    "    #         prog.apply(gate_to_apply, reg[i])\n",
    "    #  else:\n",
    "    #    switch=np.random.choice([True,False])\n",
    "    # Alternate position every 2-qubits layer\n",
    "       # if switch:\n",
    "        #    for j in np.arange(0, nb_cities - 1, 2):\n",
    "        #        prog.apply(np.random.choice(list_2qb_gates), reg[j], reg[j + 1])\n",
    "\n",
    "#            switch = False\n",
    "\n",
    " #       else:\n",
    "  #          for j in np.arange(1, nb_cities - 2, 2):\n",
    "   #             prog.apply(np.random.choice(list_2qb_gates), reg[j], reg[j + 1])\n",
    "\n",
    "    #        switch = True\n",
    "    #prog.apply(X, reg[i])\n",
    "    for i in range(nb_cities**2):\n",
    "        prog.apply(RX(var[i]),reg[i])\n",
    "    circ = prog.to_circ()\n",
    "    job = circ.to_job(observable=observable)\n",
    "    optimize =ScipyMinimizePlugin(method=\"BFGS\", tol=1e-5, options={\"maxiter\": 150}, x0 =np.array([0.01]*nb_cities**2)) #L'optimiseur \n",
    "    qpu = PyLinalg()\n",
    "    stack =  optimize | qpu #on crée un stack : on va lancer le optimize sur le job qui sera soumis\n",
    "    result = stack.submit(job) #résultat de l'optimisation\n",
    "    circuit = job.circuit.bind_variables(result.parameter_map) #On récupère le circuit précédent en \n",
    "    #spécifiant les variables (qui sont celles de l'optimiseur)\n",
    "    job = circuit.to_job(nbshots = 10000) #Le second job, qui va nous permettre de connaître l'état du vecteur avec 10000 mesures\n",
    "    qpu = PyLinalg()\n",
    "    result = qpu.submit(job) #Résultat des mesures\n",
    "    probasRes = np.zeros(2**(nb_cities**2))\n",
    "    for sample in result:\n",
    "        print(\"State %s amplitude %s\" % (sample.state, sample.probability))\n",
    "        bitstring = sample.state.bitstring\n",
    "        i = int(bitstring, base=2)\n",
    "        probasRes[i] = sample.probability\n",
    "        #s = format(i, 'b').zfill(nb_cities**2)"
   ]
  },
  {
   "cell_type": "code",
   "execution_count": 15,
   "metadata": {},
   "outputs": [
    {
     "data": {
      "image/png": "[encoded data removed]",
      "text/plain": [
       "<Figure size 640x480 with 1 Axes>"
      ]
     },
     "metadata": {},
     "output_type": "display_data"
    }
   ],
   "source": [
    "import networkx as nx\n",
    "G=nx.DiGraph()\n",
    "G.add_node(3)\n",
    "G.add_node(1)\n",
    "G.add_node(2)\n",
    "G.add_edge(1,2,label='edge1')\n",
    "G.add_edge(2,1,label='edge2')\n",
    "G.add_edge(2,3)\n",
    "G.add_edge(3,1)\n",
    "pos = nx.circular_layout(G)  # Positionnement circulaire pour une meilleure visualisation\n",
    "\n",
    "nx.draw(G, pos, with_labels=True, node_size=700, node_color=\"skyblue\")\n"
   ]
  },
  {
   "cell_type": "code",
   "execution_count": null,
   "metadata": {},
   "outputs": [],
   "source": []
  },
  {
   "cell_type": "code",
   "execution_count": null,
   "metadata": {},
   "outputs": [],
   "source": []
  }
 ],
 "metadata": {
  "kernelspec": {
   "display_name": "Python 3",
   "language": "python",
   "name": "python3"
  },
  "language_info": {
   "codemirror_mode": {
    "name": "ipython",
    "version": 3
   },
   "file_extension": ".py",
   "mimetype": "text/x-python",
   "name": "python",
   "nbconvert_exporter": "python",
   "pygments_lexer": "ipython3",
   "version": "3.11.2"
  }
 },
 "nbformat": 4,
 "nbformat_minor": 2
}
